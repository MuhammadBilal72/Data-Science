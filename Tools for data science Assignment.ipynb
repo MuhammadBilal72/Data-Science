{
 "cells": [
  {
   "cell_type": "markdown",
   "id": "3f60adf8-e5ee-477d-aff4-cf1afe278b12",
   "metadata": {},
   "source": [
    "My Jupyter Notebook on IBM Watson Studio"
   ]
  },
  {
   "cell_type": "markdown",
   "id": "ef9f97ca-6203-41b7-8f87-c6de2bb084f8",
   "metadata": {},
   "source": [
    "MUHAMMAD BILAL\n",
    "learner"
   ]
  },
  {
   "cell_type": "markdown",
   "id": "c77e4740-8312-4233-bf4c-133265106085",
   "metadata": {},
   "source": [
    "<em>I want To Explore Big Data and Ways of building predictive models. I want to use real world data to generate valuable information<em>"
   ]
  },
  {
   "cell_type": "markdown",
   "id": "ef427a77-8e29-4b79-a1f2-e37367349f33",
   "metadata": {},
   "source": [
    "<h3>My This Code Will Get Sum of Two Numbers <h3>"
   ]
  },
  {
   "cell_type": "code",
   "execution_count": 1,
   "id": "ad40eb4c-a039-4a5e-abcd-58c6008cdf74",
   "metadata": {},
   "outputs": [
    {
     "data": {
      "text/plain": [
       "11"
      ]
     },
     "execution_count": 1,
     "metadata": {},
     "output_type": "execute_result"
    }
   ],
   "source": [
    "5+6"
   ]
  },
  {
   "cell_type": "markdown",
   "id": "f0f69cd9-fc0d-4e44-bfb8-4c3ca778884d",
   "metadata": {},
   "source": [
    "<ul> <li>Python<li>R\n",
    "\n",
    "<ol> <li>Python<li>R\n",
    "    \n",
    "<a href=\"#\">Click Her"
   ]
  },
  {
   "cell_type": "code",
   "execution_count": null,
   "id": "4af3851b-3520-429d-9d9a-dabccacd35d3",
   "metadata": {},
   "outputs": [],
   "source": []
  }
 ],
 "metadata": {
  "kernelspec": {
   "display_name": "Python",
   "language": "python",
   "name": "conda-env-python-py"
  },
  "language_info": {
   "codemirror_mode": {
    "name": "ipython",
    "version": 3
   },
   "file_extension": ".py",
   "mimetype": "text/x-python",
   "name": "python",
   "nbconvert_exporter": "python",
   "pygments_lexer": "ipython3",
   "version": "3.7.12"
  }
 },
 "nbformat": 4,
 "nbformat_minor": 5
}
